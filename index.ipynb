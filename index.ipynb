{
 "cells": [
  {
   "cell_type": "code",
   "execution_count": 17,
   "metadata": {},
   "outputs": [],
   "source": [
    "from otto import Otto"
   ]
  },
  {
   "cell_type": "code",
   "execution_count": 2,
   "metadata": {},
   "outputs": [
    {
     "name": "stdout",
     "output_type": "stream",
     "text": [
      "Estados calculados com sucesso\n",
      "self.ql=813964.7766818764\n",
      "self.w_net=1056035.2233181237\n",
      "self.ql=813964.7766818764\n",
      "self.w_net=1056035.2233181237\n",
      "self.ql=813964.7766818764\n",
      "self.w_net=1056035.2233181237\n"
     ]
    }
   ],
   "source": [
    "parametros = {\n",
    "        'combustivel': 'Gasolina',\n",
    "        'p1': 101000,\n",
    "        't1': 293,\n",
    "        'cr': 8,\n",
    "        'rpm': 4500,\n",
    "        'proporcao_mistura': 0.043,\n",
    "        'vh': 0.005,\n",
    "        'cv': 717,\n",
    "        'cp': 1005,\n",
    "        'calor_reacao': 1.87 * 10**6,\n",
    "        'altitude': 0,\n",
    "        'mf': 1\n",
    "    }\n",
    "    \n",
    "otto = Otto(**parametros)\n",
    "estados_df, eficiencia_df = otto.resumo()"
   ]
  },
  {
   "cell_type": "code",
   "execution_count": 3,
   "metadata": {},
   "outputs": [
    {
     "data": {
      "text/html": [
       "<div>\n",
       "<style scoped>\n",
       "    .dataframe tbody tr th:only-of-type {\n",
       "        vertical-align: middle;\n",
       "    }\n",
       "\n",
       "    .dataframe tbody tr th {\n",
       "        vertical-align: top;\n",
       "    }\n",
       "\n",
       "    .dataframe thead th {\n",
       "        text-align: right;\n",
       "    }\n",
       "</style>\n",
       "<table border=\"1\" class=\"dataframe\">\n",
       "  <thead>\n",
       "    <tr style=\"text-align: right;\">\n",
       "      <th></th>\n",
       "      <th>Estado</th>\n",
       "      <th>Pressão (Pa)</th>\n",
       "      <th>Temperatura (K)</th>\n",
       "      <th>Volume (m³)</th>\n",
       "    </tr>\n",
       "  </thead>\n",
       "  <tbody>\n",
       "    <tr>\n",
       "      <th>0</th>\n",
       "      <td>Estado 1</td>\n",
       "      <td>1.010000e+05</td>\n",
       "      <td>293.000000</td>\n",
       "      <td>0.832584</td>\n",
       "    </tr>\n",
       "    <tr>\n",
       "      <th>1</th>\n",
       "      <td>Estado 2</td>\n",
       "      <td>1.856297e+06</td>\n",
       "      <td>673.137236</td>\n",
       "      <td>0.104073</td>\n",
       "    </tr>\n",
       "    <tr>\n",
       "      <th>2</th>\n",
       "      <td>Estado 3</td>\n",
       "      <td>9.048570e+06</td>\n",
       "      <td>3281.226497</td>\n",
       "      <td>0.104073</td>\n",
       "    </tr>\n",
       "    <tr>\n",
       "      <th>3</th>\n",
       "      <td>Estado 4</td>\n",
       "      <td>4.923274e+05</td>\n",
       "      <td>1428.236788</td>\n",
       "      <td>0.832584</td>\n",
       "    </tr>\n",
       "  </tbody>\n",
       "</table>\n",
       "</div>"
      ],
      "text/plain": [
       "     Estado  Pressão (Pa)  Temperatura (K)  Volume (m³)\n",
       "0  Estado 1  1.010000e+05       293.000000     0.832584\n",
       "1  Estado 2  1.856297e+06       673.137236     0.104073\n",
       "2  Estado 3  9.048570e+06      3281.226497     0.104073\n",
       "3  Estado 4  4.923274e+05      1428.236788     0.832584"
      ]
     },
     "execution_count": 3,
     "metadata": {},
     "output_type": "execute_result"
    }
   ],
   "source": [
    "estados_df"
   ]
  },
  {
   "cell_type": "code",
   "execution_count": 4,
   "metadata": {},
   "outputs": [
    {
     "data": {
      "text/html": [
       "<div>\n",
       "<style scoped>\n",
       "    .dataframe tbody tr th:only-of-type {\n",
       "        vertical-align: middle;\n",
       "    }\n",
       "\n",
       "    .dataframe tbody tr th {\n",
       "        vertical-align: top;\n",
       "    }\n",
       "\n",
       "    .dataframe thead th {\n",
       "        text-align: right;\n",
       "    }\n",
       "</style>\n",
       "<table border=\"1\" class=\"dataframe\">\n",
       "  <thead>\n",
       "    <tr style=\"text-align: right;\">\n",
       "      <th></th>\n",
       "      <th>Combustível</th>\n",
       "      <th>Eficiência Térmica %</th>\n",
       "      <th>MEP (KPa)</th>\n",
       "      <th>Potência no Eixo (W)</th>\n",
       "      <th>Consumo Especifico</th>\n",
       "    </tr>\n",
       "  </thead>\n",
       "  <tbody>\n",
       "    <tr>\n",
       "      <th>0</th>\n",
       "      <td>Gasolina</td>\n",
       "      <td>0.564725</td>\n",
       "      <td>1.449580e+06</td>\n",
       "      <td>271796.262098</td>\n",
       "      <td>0.000004</td>\n",
       "    </tr>\n",
       "  </tbody>\n",
       "</table>\n",
       "</div>"
      ],
      "text/plain": [
       "  Combustível  Eficiência Térmica %     MEP (KPa)  Potência no Eixo (W)  \\\n",
       "0    Gasolina              0.564725  1.449580e+06         271796.262098   \n",
       "\n",
       "   Consumo Especifico  \n",
       "0            0.000004  "
      ]
     },
     "execution_count": 4,
     "metadata": {},
     "output_type": "execute_result"
    }
   ],
   "source": [
    "eficiencia_df"
   ]
  },
  {
   "cell_type": "code",
   "execution_count": 12,
   "metadata": {},
   "outputs": [
    {
     "name": "stdout",
     "output_type": "stream",
     "text": [
      "Estados calculados com sucesso\n",
      "self.ql=813964.7766818763\n",
      "self.w_net=1056035.2233181237\n",
      "self.ql=813964.7766818763\n",
      "self.w_net=1056035.2233181237\n",
      "self.ql=813964.7766818763\n",
      "self.w_net=1056035.2233181237\n"
     ]
    }
   ],
   "source": [
    "parametros_3000 = {\n",
    "        'combustivel': 'Gasolina',\n",
    "        'p1': 70121,\n",
    "        't1': 268.7,\n",
    "        'cr': 8,\n",
    "        'rpm': 4500,\n",
    "        'proporcao_mistura': 0.043,\n",
    "        'vh': 0.005,\n",
    "        'cv': 717,\n",
    "        'cp': 1005,\n",
    "        'calor_reacao': 1.87 * 10**6,\n",
    "        'altitude': 3000,\n",
    "        'mf': 1.0\n",
    "    }\n",
    "    \n",
    "otto_3000 = Otto(**parametros_3000)\n",
    "estados_df_3000, eficiencia_df_3000 = otto_3000.resumo()"
   ]
  },
  {
   "cell_type": "code",
   "execution_count": 13,
   "metadata": {},
   "outputs": [
    {
     "data": {
      "text/html": [
       "<div>\n",
       "<style scoped>\n",
       "    .dataframe tbody tr th:only-of-type {\n",
       "        vertical-align: middle;\n",
       "    }\n",
       "\n",
       "    .dataframe tbody tr th {\n",
       "        vertical-align: top;\n",
       "    }\n",
       "\n",
       "    .dataframe thead th {\n",
       "        text-align: right;\n",
       "    }\n",
       "</style>\n",
       "<table border=\"1\" class=\"dataframe\">\n",
       "  <thead>\n",
       "    <tr style=\"text-align: right;\">\n",
       "      <th></th>\n",
       "      <th>Estado</th>\n",
       "      <th>Pressão (Pa)</th>\n",
       "      <th>Temperatura (K)</th>\n",
       "      <th>Volume (m³)</th>\n",
       "    </tr>\n",
       "  </thead>\n",
       "  <tbody>\n",
       "    <tr>\n",
       "      <th>0</th>\n",
       "      <td>Estado 1</td>\n",
       "      <td>7.012100e+04</td>\n",
       "      <td>268.700000</td>\n",
       "      <td>1.099769</td>\n",
       "    </tr>\n",
       "    <tr>\n",
       "      <th>1</th>\n",
       "      <td>Estado 2</td>\n",
       "      <td>1.288766e+06</td>\n",
       "      <td>617.310496</td>\n",
       "      <td>0.137471</td>\n",
       "    </tr>\n",
       "    <tr>\n",
       "      <th>2</th>\n",
       "      <td>Estado 3</td>\n",
       "      <td>6.733703e+06</td>\n",
       "      <td>3225.399757</td>\n",
       "      <td>0.137471</td>\n",
       "    </tr>\n",
       "    <tr>\n",
       "      <th>3</th>\n",
       "      <td>Estado 4</td>\n",
       "      <td>3.663768e+05</td>\n",
       "      <td>1403.936788</td>\n",
       "      <td>1.099769</td>\n",
       "    </tr>\n",
       "  </tbody>\n",
       "</table>\n",
       "</div>"
      ],
      "text/plain": [
       "     Estado  Pressão (Pa)  Temperatura (K)  Volume (m³)\n",
       "0  Estado 1  7.012100e+04       268.700000     1.099769\n",
       "1  Estado 2  1.288766e+06       617.310496     0.137471\n",
       "2  Estado 3  6.733703e+06      3225.399757     0.137471\n",
       "3  Estado 4  3.663768e+05      1403.936788     1.099769"
      ]
     },
     "execution_count": 13,
     "metadata": {},
     "output_type": "execute_result"
    }
   ],
   "source": [
    "estados_df_3000"
   ]
  },
  {
   "cell_type": "code",
   "execution_count": 7,
   "metadata": {},
   "outputs": [
    {
     "data": {
      "text/html": [
       "<div>\n",
       "<style scoped>\n",
       "    .dataframe tbody tr th:only-of-type {\n",
       "        vertical-align: middle;\n",
       "    }\n",
       "\n",
       "    .dataframe tbody tr th {\n",
       "        vertical-align: top;\n",
       "    }\n",
       "\n",
       "    .dataframe thead th {\n",
       "        text-align: right;\n",
       "    }\n",
       "</style>\n",
       "<table border=\"1\" class=\"dataframe\">\n",
       "  <thead>\n",
       "    <tr style=\"text-align: right;\">\n",
       "      <th></th>\n",
       "      <th>Combustível</th>\n",
       "      <th>Eficiência Térmica %</th>\n",
       "      <th>MEP (KPa)</th>\n",
       "      <th>Potência no Eixo (W)</th>\n",
       "      <th>Consumo Especifico</th>\n",
       "    </tr>\n",
       "  </thead>\n",
       "  <tbody>\n",
       "    <tr>\n",
       "      <th>0</th>\n",
       "      <td>Gasolina</td>\n",
       "      <td>0.564725</td>\n",
       "      <td>1.097410e+06</td>\n",
       "      <td>205764.363382</td>\n",
       "      <td>0.000005</td>\n",
       "    </tr>\n",
       "  </tbody>\n",
       "</table>\n",
       "</div>"
      ],
      "text/plain": [
       "  Combustível  Eficiência Térmica %     MEP (KPa)  Potência no Eixo (W)  \\\n",
       "0    Gasolina              0.564725  1.097410e+06         205764.363382   \n",
       "\n",
       "   Consumo Especifico  \n",
       "0            0.000005  "
      ]
     },
     "execution_count": 7,
     "metadata": {},
     "output_type": "execute_result"
    }
   ],
   "source": [
    "eficiencia_df_3000"
   ]
  },
  {
   "cell_type": "code",
   "execution_count": 8,
   "metadata": {},
   "outputs": [
    {
     "data": {
      "text/plain": [
       "795870"
      ]
     },
     "execution_count": 8,
     "metadata": {},
     "output_type": "execute_result"
    }
   ],
   "source": [
    "ql = 717 * (1403 - 293)\n",
    "ql"
   ]
  },
  {
   "cell_type": "markdown",
   "metadata": {},
   "source": [
    "### Projeto 1"
   ]
  },
  {
   "cell_type": "code",
   "execution_count": 36,
   "metadata": {},
   "outputs": [
    {
     "name": "stdout",
     "output_type": "stream",
     "text": [
      "Estados calculados com sucesso\n",
      "self.ql=926008.5140868889\n",
      "self.w_net=1273991.4859131111\n",
      "self.ql=926008.5140868889\n",
      "self.w_net=1273991.4859131111\n",
      "self.ql=926008.5140868889\n",
      "self.w_net=1273991.4859131111\n"
     ]
    }
   ],
   "source": [
    "parametros_projeto_0 = {\n",
    "        'combustivel': 'AVGas',\n",
    "        'p1': 101000,\n",
    "        't1': 293,\n",
    "        'cr': 8.7,\n",
    "        'rpm': 2700,\n",
    "        'proporcao_mistura': 1/20, # Proporcao de 1/20 para avgas\n",
    "        'vh': 0.00887, # Dados do motor do ipanema\n",
    "        'cv': 717, # Valor de cv padrao\n",
    "        'cp': 1005, # Valor de cp padrao\n",
    "        'calor_reacao': 2.2 * (10**6), # calor de reacao do  avgas\n",
    "        'altitude': 0,\n",
    "        'mf': 1.0\n",
    "        \n",
    "    }\n",
    "    \n",
    "otto_projeto_0 = Otto(**parametros_projeto_0)\n",
    "estados_df_projeto_0, eficiencia_df_projeto_0 = otto_projeto_0.resumo()"
   ]
  },
  {
   "cell_type": "code",
   "execution_count": 33,
   "metadata": {},
   "outputs": [
    {
     "data": {
      "text/html": [
       "<div>\n",
       "<style scoped>\n",
       "    .dataframe tbody tr th:only-of-type {\n",
       "        vertical-align: middle;\n",
       "    }\n",
       "\n",
       "    .dataframe tbody tr th {\n",
       "        vertical-align: top;\n",
       "    }\n",
       "\n",
       "    .dataframe thead th {\n",
       "        text-align: right;\n",
       "    }\n",
       "</style>\n",
       "<table border=\"1\" class=\"dataframe\">\n",
       "  <thead>\n",
       "    <tr style=\"text-align: right;\">\n",
       "      <th></th>\n",
       "      <th>Estado</th>\n",
       "      <th>Pressão (Pa)</th>\n",
       "      <th>Temperatura (K)</th>\n",
       "      <th>Volume (m³)</th>\n",
       "    </tr>\n",
       "  </thead>\n",
       "  <tbody>\n",
       "    <tr>\n",
       "      <th>0</th>\n",
       "      <td>Estado 1</td>\n",
       "      <td>1.010000e+05</td>\n",
       "      <td>293.000000</td>\n",
       "      <td>0.832584</td>\n",
       "    </tr>\n",
       "    <tr>\n",
       "      <th>1</th>\n",
       "      <td>Estado 2</td>\n",
       "      <td>2.087605e+06</td>\n",
       "      <td>696.105911</td>\n",
       "      <td>0.095699</td>\n",
       "    </tr>\n",
       "    <tr>\n",
       "      <th>2</th>\n",
       "      <td>Estado 3</td>\n",
       "      <td>1.128948e+07</td>\n",
       "      <td>3764.446218</td>\n",
       "      <td>0.095699</td>\n",
       "    </tr>\n",
       "    <tr>\n",
       "      <th>3</th>\n",
       "      <td>Estado 4</td>\n",
       "      <td>5.461943e+05</td>\n",
       "      <td>1584.504204</td>\n",
       "      <td>0.832584</td>\n",
       "    </tr>\n",
       "  </tbody>\n",
       "</table>\n",
       "</div>"
      ],
      "text/plain": [
       "     Estado  Pressão (Pa)  Temperatura (K)  Volume (m³)\n",
       "0  Estado 1  1.010000e+05       293.000000     0.832584\n",
       "1  Estado 2  2.087605e+06       696.105911     0.095699\n",
       "2  Estado 3  1.128948e+07      3764.446218     0.095699\n",
       "3  Estado 4  5.461943e+05      1584.504204     0.832584"
      ]
     },
     "execution_count": 33,
     "metadata": {},
     "output_type": "execute_result"
    }
   ],
   "source": [
    "estados_df_projeto_0"
   ]
  },
  {
   "cell_type": "code",
   "execution_count": 34,
   "metadata": {},
   "outputs": [
    {
     "data": {
      "text/html": [
       "<div>\n",
       "<style scoped>\n",
       "    .dataframe tbody tr th:only-of-type {\n",
       "        vertical-align: middle;\n",
       "    }\n",
       "\n",
       "    .dataframe tbody tr th {\n",
       "        vertical-align: top;\n",
       "    }\n",
       "\n",
       "    .dataframe thead th {\n",
       "        text-align: right;\n",
       "    }\n",
       "</style>\n",
       "<table border=\"1\" class=\"dataframe\">\n",
       "  <thead>\n",
       "    <tr style=\"text-align: right;\">\n",
       "      <th></th>\n",
       "      <th>Combustível</th>\n",
       "      <th>Eficiência Térmica %</th>\n",
       "      <th>MEP (KPa)</th>\n",
       "      <th>Potência no Eixo (W)</th>\n",
       "      <th>Consumo Especifico</th>\n",
       "    </tr>\n",
       "  </thead>\n",
       "  <tbody>\n",
       "    <tr>\n",
       "      <th>0</th>\n",
       "      <td>AVGas</td>\n",
       "      <td>0.579087</td>\n",
       "      <td>1.728888e+06</td>\n",
       "      <td>345042.862191</td>\n",
       "      <td>0.000003</td>\n",
       "    </tr>\n",
       "  </tbody>\n",
       "</table>\n",
       "</div>"
      ],
      "text/plain": [
       "  Combustível  Eficiência Térmica %     MEP (KPa)  Potência no Eixo (W)  \\\n",
       "0       AVGas              0.579087  1.728888e+06         345042.862191   \n",
       "\n",
       "   Consumo Especifico  \n",
       "0            0.000003  "
      ]
     },
     "execution_count": 34,
     "metadata": {},
     "output_type": "execute_result"
    }
   ],
   "source": [
    "eficiencia_df_projeto_0"
   ]
  },
  {
   "cell_type": "markdown",
   "metadata": {},
   "source": [
    "## Trabalho mandado no wpp\n",
    "- CR = 10\n",
    "- "
   ]
  },
  {
   "cell_type": "code",
   "execution_count": null,
   "metadata": {},
   "outputs": [],
   "source": []
  },
  {
   "cell_type": "code",
   "execution_count": null,
   "metadata": {},
   "outputs": [],
   "source": []
  },
  {
   "cell_type": "code",
   "execution_count": null,
   "metadata": {},
   "outputs": [],
   "source": []
  },
  {
   "cell_type": "code",
   "execution_count": null,
   "metadata": {},
   "outputs": [],
   "source": []
  },
  {
   "cell_type": "code",
   "execution_count": null,
   "metadata": {},
   "outputs": [],
   "source": []
  },
  {
   "cell_type": "code",
   "execution_count": null,
   "metadata": {},
   "outputs": [],
   "source": []
  }
 ],
 "metadata": {
  "language_info": {
   "name": "python"
  }
 },
 "nbformat": 4,
 "nbformat_minor": 2
}
