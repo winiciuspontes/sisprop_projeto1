{
 "cells": [
  {
   "cell_type": "code",
   "execution_count": 1,
   "metadata": {},
   "outputs": [],
   "source": [
    "from otto import Otto"
   ]
  },
  {
   "cell_type": "markdown",
   "metadata": {},
   "source": [
    "# Altitude 0 m "
   ]
  },
  {
   "cell_type": "markdown",
   "metadata": {},
   "source": [
    "## AVGas"
   ]
  },
  {
   "cell_type": "code",
   "execution_count": 2,
   "metadata": {},
   "outputs": [
    {
     "name": "stdout",
     "output_type": "stream",
     "text": [
      "Estados calculados com sucesso\n"
     ]
    }
   ],
   "source": [
    "parametros_projeto_0 = {\n",
    "        'combustivel': 'AVGas',\n",
    "        'p1': 101000,\n",
    "        't1': 293,\n",
    "        'cr': 8.7,\n",
    "        'rpm': 2700,\n",
    "        'proporcao_mistura': 1/14.7,\n",
    "        'vh': 0.00887, # Dados do motor do ipanema\n",
    "        'cv': 717, # Valor de cv padrao\n",
    "        'cp': 1005, # Valor de cp padrao\n",
    "        'calor_reacao': 2.2 * (10**6), # calor de reacao do  avgas\n",
    "        'altitude': 0,\n",
    "        'mf': 1.0\n",
    "        \n",
    "    }\n",
    "otto_projeto_0 = Otto(**parametros_projeto_0)\n",
    "estados_df_projeto_0, eficiencia_df_projeto_0 = otto_projeto_0.resumo()"
   ]
  },
  {
   "cell_type": "code",
   "execution_count": 3,
   "metadata": {},
   "outputs": [
    {
     "data": {
      "text/html": [
       "<div>\n",
       "<style scoped>\n",
       "    .dataframe tbody tr th:only-of-type {\n",
       "        vertical-align: middle;\n",
       "    }\n",
       "\n",
       "    .dataframe tbody tr th {\n",
       "        vertical-align: top;\n",
       "    }\n",
       "\n",
       "    .dataframe thead th {\n",
       "        text-align: right;\n",
       "    }\n",
       "</style>\n",
       "<table border=\"1\" class=\"dataframe\">\n",
       "  <thead>\n",
       "    <tr style=\"text-align: right;\">\n",
       "      <th></th>\n",
       "      <th>Estado</th>\n",
       "      <th>Pressão (Pa)</th>\n",
       "      <th>Temperatura (K)</th>\n",
       "      <th>Volume (m³)</th>\n",
       "    </tr>\n",
       "  </thead>\n",
       "  <tbody>\n",
       "    <tr>\n",
       "      <th>0</th>\n",
       "      <td>Estado 1</td>\n",
       "      <td>1.010000e+05</td>\n",
       "      <td>293.000000</td>\n",
       "      <td>0.832584</td>\n",
       "    </tr>\n",
       "    <tr>\n",
       "      <th>1</th>\n",
       "      <td>Estado 2</td>\n",
       "      <td>2.087605e+06</td>\n",
       "      <td>696.105911</td>\n",
       "      <td>0.095699</td>\n",
       "    </tr>\n",
       "    <tr>\n",
       "      <th>2</th>\n",
       "      <td>Estado 3</td>\n",
       "      <td>1.128948e+07</td>\n",
       "      <td>3764.446218</td>\n",
       "      <td>0.095699</td>\n",
       "    </tr>\n",
       "    <tr>\n",
       "      <th>3</th>\n",
       "      <td>Estado 4</td>\n",
       "      <td>5.461943e+05</td>\n",
       "      <td>1584.504204</td>\n",
       "      <td>0.832584</td>\n",
       "    </tr>\n",
       "  </tbody>\n",
       "</table>\n",
       "</div>"
      ],
      "text/plain": [
       "     Estado  Pressão (Pa)  Temperatura (K)  Volume (m³)\n",
       "0  Estado 1  1.010000e+05       293.000000     0.832584\n",
       "1  Estado 2  2.087605e+06       696.105911     0.095699\n",
       "2  Estado 3  1.128948e+07      3764.446218     0.095699\n",
       "3  Estado 4  5.461943e+05      1584.504204     0.832584"
      ]
     },
     "execution_count": 3,
     "metadata": {},
     "output_type": "execute_result"
    }
   ],
   "source": [
    "estados_df_projeto_0"
   ]
  },
  {
   "cell_type": "code",
   "execution_count": 4,
   "metadata": {},
   "outputs": [
    {
     "data": {
      "text/html": [
       "<div>\n",
       "<style scoped>\n",
       "    .dataframe tbody tr th:only-of-type {\n",
       "        vertical-align: middle;\n",
       "    }\n",
       "\n",
       "    .dataframe tbody tr th {\n",
       "        vertical-align: top;\n",
       "    }\n",
       "\n",
       "    .dataframe thead th {\n",
       "        text-align: right;\n",
       "    }\n",
       "</style>\n",
       "<table border=\"1\" class=\"dataframe\">\n",
       "  <thead>\n",
       "    <tr style=\"text-align: right;\">\n",
       "      <th></th>\n",
       "      <th>Combustível</th>\n",
       "      <th>Eficiência Térmica %</th>\n",
       "      <th>MEP (KPa)</th>\n",
       "      <th>Potência no Eixo (W)</th>\n",
       "      <th>Consumo Especifico</th>\n",
       "    </tr>\n",
       "  </thead>\n",
       "  <tbody>\n",
       "    <tr>\n",
       "      <th>0</th>\n",
       "      <td>AVGas</td>\n",
       "      <td>0.579087</td>\n",
       "      <td>1.728888e+06</td>\n",
       "      <td>345042.862191</td>\n",
       "      <td>0.000003</td>\n",
       "    </tr>\n",
       "  </tbody>\n",
       "</table>\n",
       "</div>"
      ],
      "text/plain": [
       "  Combustível  Eficiência Térmica %     MEP (KPa)  Potência no Eixo (W)  \\\n",
       "0       AVGas              0.579087  1.728888e+06         345042.862191   \n",
       "\n",
       "   Consumo Especifico  \n",
       "0            0.000003  "
      ]
     },
     "execution_count": 4,
     "metadata": {},
     "output_type": "execute_result"
    }
   ],
   "source": [
    "eficiencia_df_projeto_0"
   ]
  },
  {
   "cell_type": "markdown",
   "metadata": {},
   "source": [
    "## Etanol"
   ]
  },
  {
   "cell_type": "code",
   "execution_count": 5,
   "metadata": {},
   "outputs": [
    {
     "name": "stdout",
     "output_type": "stream",
     "text": [
      "Estados calculados com sucesso\n"
     ]
    }
   ],
   "source": [
    "parametros_projeto_0 = {\n",
    "        'combustivel': 'Etanol',\n",
    "        'p1': 101000,\n",
    "        't1': 293,\n",
    "        'cr': 10,\n",
    "        'rpm': 2700,\n",
    "        'proporcao_mistura': 1/9,\n",
    "        'vh': 0.00887, # Dados do motor do ipanema\n",
    "        'cv': 717, # Valor de cv padrao\n",
    "        'cp': 1005, # Valor de cp padrao\n",
    "        'calor_reacao': 2.97 * (10**6), # calor de reacao do  avgas\n",
    "        'altitude': 0,\n",
    "        'mf': 1.0\n",
    "        \n",
    "    }\n",
    "otto_projeto_0 = Otto(**parametros_projeto_0)\n",
    "estados_df_projeto_0, eficiencia_df_projeto_0 = otto_projeto_0.resumo()"
   ]
  },
  {
   "cell_type": "code",
   "execution_count": 6,
   "metadata": {},
   "outputs": [
    {
     "data": {
      "text/html": [
       "<div>\n",
       "<style scoped>\n",
       "    .dataframe tbody tr th:only-of-type {\n",
       "        vertical-align: middle;\n",
       "    }\n",
       "\n",
       "    .dataframe tbody tr th {\n",
       "        vertical-align: top;\n",
       "    }\n",
       "\n",
       "    .dataframe thead th {\n",
       "        text-align: right;\n",
       "    }\n",
       "</style>\n",
       "<table border=\"1\" class=\"dataframe\">\n",
       "  <thead>\n",
       "    <tr style=\"text-align: right;\">\n",
       "      <th></th>\n",
       "      <th>Estado</th>\n",
       "      <th>Pressão (Pa)</th>\n",
       "      <th>Temperatura (K)</th>\n",
       "      <th>Volume (m³)</th>\n",
       "    </tr>\n",
       "  </thead>\n",
       "  <tbody>\n",
       "    <tr>\n",
       "      <th>0</th>\n",
       "      <td>Estado 1</td>\n",
       "      <td>1.010000e+05</td>\n",
       "      <td>293.000000</td>\n",
       "      <td>0.832584</td>\n",
       "    </tr>\n",
       "    <tr>\n",
       "      <th>1</th>\n",
       "      <td>Estado 2</td>\n",
       "      <td>2.537005e+06</td>\n",
       "      <td>735.982724</td>\n",
       "      <td>0.083258</td>\n",
       "    </tr>\n",
       "    <tr>\n",
       "      <th>2</th>\n",
       "      <td>Estado 3</td>\n",
       "      <td>1.681578e+07</td>\n",
       "      <td>4878.242139</td>\n",
       "      <td>0.083258</td>\n",
       "    </tr>\n",
       "    <tr>\n",
       "      <th>3</th>\n",
       "      <td>Estado 4</td>\n",
       "      <td>6.694484e+05</td>\n",
       "      <td>1942.063175</td>\n",
       "      <td>0.832584</td>\n",
       "    </tr>\n",
       "  </tbody>\n",
       "</table>\n",
       "</div>"
      ],
      "text/plain": [
       "     Estado  Pressão (Pa)  Temperatura (K)  Volume (m³)\n",
       "0  Estado 1  1.010000e+05       293.000000     0.832584\n",
       "1  Estado 2  2.537005e+06       735.982724     0.083258\n",
       "2  Estado 3  1.681578e+07      4878.242139     0.083258\n",
       "3  Estado 4  6.694484e+05      1942.063175     0.832584"
      ]
     },
     "execution_count": 6,
     "metadata": {},
     "output_type": "execute_result"
    }
   ],
   "source": [
    "estados_df_projeto_0"
   ]
  },
  {
   "cell_type": "code",
   "execution_count": 7,
   "metadata": {},
   "outputs": [
    {
     "data": {
      "text/html": [
       "<div>\n",
       "<style scoped>\n",
       "    .dataframe tbody tr th:only-of-type {\n",
       "        vertical-align: middle;\n",
       "    }\n",
       "\n",
       "    .dataframe tbody tr th {\n",
       "        vertical-align: top;\n",
       "    }\n",
       "\n",
       "    .dataframe thead th {\n",
       "        text-align: right;\n",
       "    }\n",
       "</style>\n",
       "<table border=\"1\" class=\"dataframe\">\n",
       "  <thead>\n",
       "    <tr style=\"text-align: right;\">\n",
       "      <th></th>\n",
       "      <th>Combustível</th>\n",
       "      <th>Eficiência Térmica %</th>\n",
       "      <th>MEP (KPa)</th>\n",
       "      <th>Potência no Eixo (W)</th>\n",
       "      <th>Consumo Especifico</th>\n",
       "    </tr>\n",
       "  </thead>\n",
       "  <tbody>\n",
       "    <tr>\n",
       "      <th>0</th>\n",
       "      <td>Etanol</td>\n",
       "      <td>0.601893</td>\n",
       "      <td>2.385640e+06</td>\n",
       "      <td>476114.166639</td>\n",
       "      <td>0.000002</td>\n",
       "    </tr>\n",
       "  </tbody>\n",
       "</table>\n",
       "</div>"
      ],
      "text/plain": [
       "  Combustível  Eficiência Térmica %     MEP (KPa)  Potência no Eixo (W)  \\\n",
       "0      Etanol              0.601893  2.385640e+06         476114.166639   \n",
       "\n",
       "   Consumo Especifico  \n",
       "0            0.000002  "
      ]
     },
     "execution_count": 7,
     "metadata": {},
     "output_type": "execute_result"
    }
   ],
   "source": [
    "eficiencia_df_projeto_0"
   ]
  },
  {
   "cell_type": "markdown",
   "metadata": {},
   "source": [
    "## H_2"
   ]
  },
  {
   "cell_type": "code",
   "execution_count": 8,
   "metadata": {},
   "outputs": [
    {
     "name": "stdout",
     "output_type": "stream",
     "text": [
      "Estados calculados com sucesso\n"
     ]
    }
   ],
   "source": [
    "parametros_projeto_0 = {\n",
    "        'combustivel': 'Hidrogenio',\n",
    "        'p1': 101000,\n",
    "        't1': 293,\n",
    "        'cr': 12,\n",
    "        'rpm': 2700,\n",
    "        'proporcao_mistura': 1/34,\n",
    "        'vh': 0.00887, # Dados do motor do ipanema\n",
    "        'cv': 717, # Valor de cv padrao\n",
    "        'cp': 1005, # Valor de cp padrao\n",
    "        'calor_reacao': 3.52 * (10**6), # calor de reacao do  avgas\n",
    "        'altitude': 0,\n",
    "        'mf': 1.0\n",
    "        \n",
    "    }\n",
    "otto_projeto_0 = Otto(**parametros_projeto_0)\n",
    "estados_df_projeto_0, eficiencia_df_projeto_0 = otto_projeto_0.resumo()"
   ]
  },
  {
   "cell_type": "code",
   "execution_count": 9,
   "metadata": {},
   "outputs": [
    {
     "data": {
      "text/html": [
       "<div>\n",
       "<style scoped>\n",
       "    .dataframe tbody tr th:only-of-type {\n",
       "        vertical-align: middle;\n",
       "    }\n",
       "\n",
       "    .dataframe tbody tr th {\n",
       "        vertical-align: top;\n",
       "    }\n",
       "\n",
       "    .dataframe thead th {\n",
       "        text-align: right;\n",
       "    }\n",
       "</style>\n",
       "<table border=\"1\" class=\"dataframe\">\n",
       "  <thead>\n",
       "    <tr style=\"text-align: right;\">\n",
       "      <th></th>\n",
       "      <th>Estado</th>\n",
       "      <th>Pressão (Pa)</th>\n",
       "      <th>Temperatura (K)</th>\n",
       "      <th>Volume (m³)</th>\n",
       "    </tr>\n",
       "  </thead>\n",
       "  <tbody>\n",
       "    <tr>\n",
       "      <th>0</th>\n",
       "      <td>Estado 1</td>\n",
       "      <td>1.010000e+05</td>\n",
       "      <td>293.000000</td>\n",
       "      <td>0.832584</td>\n",
       "    </tr>\n",
       "    <tr>\n",
       "      <th>1</th>\n",
       "      <td>Estado 2</td>\n",
       "      <td>3.274727e+06</td>\n",
       "      <td>791.662583</td>\n",
       "      <td>0.069382</td>\n",
       "    </tr>\n",
       "    <tr>\n",
       "      <th>2</th>\n",
       "      <td>Estado 3</td>\n",
       "      <td>2.358232e+07</td>\n",
       "      <td>5701.007074</td>\n",
       "      <td>0.069382</td>\n",
       "    </tr>\n",
       "    <tr>\n",
       "      <th>3</th>\n",
       "      <td>Estado 4</td>\n",
       "      <td>7.273322e+05</td>\n",
       "      <td>2109.983608</td>\n",
       "      <td>0.832584</td>\n",
       "    </tr>\n",
       "  </tbody>\n",
       "</table>\n",
       "</div>"
      ],
      "text/plain": [
       "     Estado  Pressão (Pa)  Temperatura (K)  Volume (m³)\n",
       "0  Estado 1  1.010000e+05       293.000000     0.832584\n",
       "1  Estado 2  3.274727e+06       791.662583     0.069382\n",
       "2  Estado 3  2.358232e+07      5701.007074     0.069382\n",
       "3  Estado 4  7.273322e+05      2109.983608     0.832584"
      ]
     },
     "execution_count": 9,
     "metadata": {},
     "output_type": "execute_result"
    }
   ],
   "source": [
    "estados_df_projeto_0"
   ]
  },
  {
   "cell_type": "code",
   "execution_count": 10,
   "metadata": {},
   "outputs": [
    {
     "data": {
      "text/html": [
       "<div>\n",
       "<style scoped>\n",
       "    .dataframe tbody tr th:only-of-type {\n",
       "        vertical-align: middle;\n",
       "    }\n",
       "\n",
       "    .dataframe tbody tr th {\n",
       "        vertical-align: top;\n",
       "    }\n",
       "\n",
       "    .dataframe thead th {\n",
       "        text-align: right;\n",
       "    }\n",
       "</style>\n",
       "<table border=\"1\" class=\"dataframe\">\n",
       "  <thead>\n",
       "    <tr style=\"text-align: right;\">\n",
       "      <th></th>\n",
       "      <th>Combustível</th>\n",
       "      <th>Eficiência Térmica %</th>\n",
       "      <th>MEP (KPa)</th>\n",
       "      <th>Potência no Eixo (W)</th>\n",
       "      <th>Consumo Especifico</th>\n",
       "    </tr>\n",
       "  </thead>\n",
       "  <tbody>\n",
       "    <tr>\n",
       "      <th>0</th>\n",
       "      <td>Hidrogenio</td>\n",
       "      <td>0.629893</td>\n",
       "      <td>2.905158e+06</td>\n",
       "      <td>579796.890868</td>\n",
       "      <td>0.000002</td>\n",
       "    </tr>\n",
       "  </tbody>\n",
       "</table>\n",
       "</div>"
      ],
      "text/plain": [
       "  Combustível  Eficiência Térmica %     MEP (KPa)  Potência no Eixo (W)  \\\n",
       "0  Hidrogenio              0.629893  2.905158e+06         579796.890868   \n",
       "\n",
       "   Consumo Especifico  \n",
       "0            0.000002  "
      ]
     },
     "execution_count": 10,
     "metadata": {},
     "output_type": "execute_result"
    }
   ],
   "source": [
    "eficiencia_df_projeto_0"
   ]
  },
  {
   "cell_type": "markdown",
   "metadata": {},
   "source": [
    "## Altitude 3000 m "
   ]
  },
  {
   "cell_type": "markdown",
   "metadata": {},
   "source": [
    "## AVGas"
   ]
  },
  {
   "cell_type": "code",
   "execution_count": 11,
   "metadata": {},
   "outputs": [
    {
     "name": "stdout",
     "output_type": "stream",
     "text": [
      "Estados calculados com sucesso\n"
     ]
    }
   ],
   "source": [
    "parametros_projeto_3000 = {\n",
    "        'combustivel': 'AVGas',\n",
    "        'p1': 70121,\n",
    "        't1': 268.7,\n",
    "        'cr': 8.7,\n",
    "        'rpm': 2700,\n",
    "        'proporcao_mistura': 1/14.7,\n",
    "        'vh': 0.00887, # Dados do motor do ipanema\n",
    "        'cv': 717, # Valor de cv padrao\n",
    "        'cp': 1005, # Valor de cp padrao\n",
    "        'calor_reacao': 2.2 * (10**6), # calor de reacao do  avgas\n",
    "        'altitude': 3000,\n",
    "        'mf': 1.0\n",
    "        \n",
    "    }\n",
    "otto_projeto_3000 = Otto(**parametros_projeto_3000)\n",
    "estados_df_projeto_3000, eficiencia_df_projeto_3000 = otto_projeto_3000.resumo()"
   ]
  },
  {
   "cell_type": "code",
   "execution_count": 12,
   "metadata": {},
   "outputs": [
    {
     "data": {
      "text/html": [
       "<div>\n",
       "<style scoped>\n",
       "    .dataframe tbody tr th:only-of-type {\n",
       "        vertical-align: middle;\n",
       "    }\n",
       "\n",
       "    .dataframe tbody tr th {\n",
       "        vertical-align: top;\n",
       "    }\n",
       "\n",
       "    .dataframe thead th {\n",
       "        text-align: right;\n",
       "    }\n",
       "</style>\n",
       "<table border=\"1\" class=\"dataframe\">\n",
       "  <thead>\n",
       "    <tr style=\"text-align: right;\">\n",
       "      <th></th>\n",
       "      <th>Estado</th>\n",
       "      <th>Pressão (Pa)</th>\n",
       "      <th>Temperatura (K)</th>\n",
       "      <th>Volume (m³)</th>\n",
       "    </tr>\n",
       "  </thead>\n",
       "  <tbody>\n",
       "    <tr>\n",
       "      <th>0</th>\n",
       "      <td>Estado 1</td>\n",
       "      <td>7.012100e+04</td>\n",
       "      <td>268.700000</td>\n",
       "      <td>1.099769</td>\n",
       "    </tr>\n",
       "    <tr>\n",
       "      <th>1</th>\n",
       "      <td>Estado 2</td>\n",
       "      <td>1.449356e+06</td>\n",
       "      <td>638.374260</td>\n",
       "      <td>0.126410</td>\n",
       "    </tr>\n",
       "    <tr>\n",
       "      <th>2</th>\n",
       "      <td>Estado 3</td>\n",
       "      <td>8.415673e+06</td>\n",
       "      <td>3706.714567</td>\n",
       "      <td>0.126410</td>\n",
       "    </tr>\n",
       "    <tr>\n",
       "      <th>3</th>\n",
       "      <td>Estado 4</td>\n",
       "      <td>4.071570e+05</td>\n",
       "      <td>1560.204204</td>\n",
       "      <td>1.099769</td>\n",
       "    </tr>\n",
       "  </tbody>\n",
       "</table>\n",
       "</div>"
      ],
      "text/plain": [
       "     Estado  Pressão (Pa)  Temperatura (K)  Volume (m³)\n",
       "0  Estado 1  7.012100e+04       268.700000     1.099769\n",
       "1  Estado 2  1.449356e+06       638.374260     0.126410\n",
       "2  Estado 3  8.415673e+06      3706.714567     0.126410\n",
       "3  Estado 4  4.071570e+05      1560.204204     1.099769"
      ]
     },
     "execution_count": 12,
     "metadata": {},
     "output_type": "execute_result"
    }
   ],
   "source": [
    "estados_df_projeto_3000"
   ]
  },
  {
   "cell_type": "code",
   "execution_count": 13,
   "metadata": {},
   "outputs": [
    {
     "data": {
      "text/html": [
       "<div>\n",
       "<style scoped>\n",
       "    .dataframe tbody tr th:only-of-type {\n",
       "        vertical-align: middle;\n",
       "    }\n",
       "\n",
       "    .dataframe tbody tr th {\n",
       "        vertical-align: top;\n",
       "    }\n",
       "\n",
       "    .dataframe thead th {\n",
       "        text-align: right;\n",
       "    }\n",
       "</style>\n",
       "<table border=\"1\" class=\"dataframe\">\n",
       "  <thead>\n",
       "    <tr style=\"text-align: right;\">\n",
       "      <th></th>\n",
       "      <th>Combustível</th>\n",
       "      <th>Eficiência Térmica %</th>\n",
       "      <th>MEP (KPa)</th>\n",
       "      <th>Potência no Eixo (W)</th>\n",
       "      <th>Consumo Especifico</th>\n",
       "    </tr>\n",
       "  </thead>\n",
       "  <tbody>\n",
       "    <tr>\n",
       "      <th>0</th>\n",
       "      <td>AVGas</td>\n",
       "      <td>0.579087</td>\n",
       "      <td>1.308861e+06</td>\n",
       "      <td>261215.972325</td>\n",
       "      <td>0.000004</td>\n",
       "    </tr>\n",
       "  </tbody>\n",
       "</table>\n",
       "</div>"
      ],
      "text/plain": [
       "  Combustível  Eficiência Térmica %     MEP (KPa)  Potência no Eixo (W)  \\\n",
       "0       AVGas              0.579087  1.308861e+06         261215.972325   \n",
       "\n",
       "   Consumo Especifico  \n",
       "0            0.000004  "
      ]
     },
     "execution_count": 13,
     "metadata": {},
     "output_type": "execute_result"
    }
   ],
   "source": [
    "eficiencia_df_projeto_3000"
   ]
  },
  {
   "cell_type": "markdown",
   "metadata": {},
   "source": [
    "## Etanol"
   ]
  },
  {
   "cell_type": "code",
   "execution_count": 14,
   "metadata": {},
   "outputs": [
    {
     "name": "stdout",
     "output_type": "stream",
     "text": [
      "Estados calculados com sucesso\n"
     ]
    }
   ],
   "source": [
    "parametros_projeto_3000 = {\n",
    "        'combustivel': 'etanol',\n",
    "        'p1': 70121,\n",
    "        't1': 268.7,\n",
    "        'cr': 10,\n",
    "        'rpm': 2700,\n",
    "        'proporcao_mistura': 1/9,\n",
    "        'vh': 0.00887, # Dados do motor do ipanema\n",
    "        'cv': 717, # Valor de cv padrao\n",
    "        'cp': 1005, # Valor de cp padrao\n",
    "        'calor_reacao': 2.97 * (10**6), # calor de reacao do  avgas\n",
    "        'altitude': 3000,\n",
    "        'mf': 1.0\n",
    "        \n",
    "    }\n",
    "otto_projeto_3000 = Otto(**parametros_projeto_3000)\n",
    "estados_df_projeto_3000, eficiencia_df_projeto_3000 = otto_projeto_3000.resumo()"
   ]
  },
  {
   "cell_type": "code",
   "execution_count": 15,
   "metadata": {},
   "outputs": [
    {
     "data": {
      "text/html": [
       "<div>\n",
       "<style scoped>\n",
       "    .dataframe tbody tr th:only-of-type {\n",
       "        vertical-align: middle;\n",
       "    }\n",
       "\n",
       "    .dataframe tbody tr th {\n",
       "        vertical-align: top;\n",
       "    }\n",
       "\n",
       "    .dataframe thead th {\n",
       "        text-align: right;\n",
       "    }\n",
       "</style>\n",
       "<table border=\"1\" class=\"dataframe\">\n",
       "  <thead>\n",
       "    <tr style=\"text-align: right;\">\n",
       "      <th></th>\n",
       "      <th>Estado</th>\n",
       "      <th>Pressão (Pa)</th>\n",
       "      <th>Temperatura (K)</th>\n",
       "      <th>Volume (m³)</th>\n",
       "    </tr>\n",
       "  </thead>\n",
       "  <tbody>\n",
       "    <tr>\n",
       "      <th>0</th>\n",
       "      <td>Estado 1</td>\n",
       "      <td>7.012100e+04</td>\n",
       "      <td>268.700000</td>\n",
       "      <td>1.099769</td>\n",
       "    </tr>\n",
       "    <tr>\n",
       "      <th>1</th>\n",
       "      <td>Estado 2</td>\n",
       "      <td>1.761360e+06</td>\n",
       "      <td>674.943884</td>\n",
       "      <td>0.109977</td>\n",
       "    </tr>\n",
       "    <tr>\n",
       "      <th>2</th>\n",
       "      <td>Estado 3</td>\n",
       "      <td>1.257116e+07</td>\n",
       "      <td>4817.203298</td>\n",
       "      <td>0.109977</td>\n",
       "    </tr>\n",
       "    <tr>\n",
       "      <th>3</th>\n",
       "      <td>Estado 4</td>\n",
       "      <td>5.004670e+05</td>\n",
       "      <td>1917.763175</td>\n",
       "      <td>1.099769</td>\n",
       "    </tr>\n",
       "  </tbody>\n",
       "</table>\n",
       "</div>"
      ],
      "text/plain": [
       "     Estado  Pressão (Pa)  Temperatura (K)  Volume (m³)\n",
       "0  Estado 1  7.012100e+04       268.700000     1.099769\n",
       "1  Estado 2  1.761360e+06       674.943884     0.109977\n",
       "2  Estado 3  1.257116e+07      4817.203298     0.109977\n",
       "3  Estado 4  5.004670e+05      1917.763175     1.099769"
      ]
     },
     "execution_count": 15,
     "metadata": {},
     "output_type": "execute_result"
    }
   ],
   "source": [
    "estados_df_projeto_3000"
   ]
  },
  {
   "cell_type": "code",
   "execution_count": 16,
   "metadata": {},
   "outputs": [
    {
     "data": {
      "text/html": [
       "<div>\n",
       "<style scoped>\n",
       "    .dataframe tbody tr th:only-of-type {\n",
       "        vertical-align: middle;\n",
       "    }\n",
       "\n",
       "    .dataframe tbody tr th {\n",
       "        vertical-align: top;\n",
       "    }\n",
       "\n",
       "    .dataframe thead th {\n",
       "        text-align: right;\n",
       "    }\n",
       "</style>\n",
       "<table border=\"1\" class=\"dataframe\">\n",
       "  <thead>\n",
       "    <tr style=\"text-align: right;\">\n",
       "      <th></th>\n",
       "      <th>Combustível</th>\n",
       "      <th>Eficiência Térmica %</th>\n",
       "      <th>MEP (KPa)</th>\n",
       "      <th>Potência no Eixo (W)</th>\n",
       "      <th>Consumo Especifico</th>\n",
       "    </tr>\n",
       "  </thead>\n",
       "  <tbody>\n",
       "    <tr>\n",
       "      <th>0</th>\n",
       "      <td>etanol</td>\n",
       "      <td>0.601893</td>\n",
       "      <td>1.806058e+06</td>\n",
       "      <td>360443.987123</td>\n",
       "      <td>0.000003</td>\n",
       "    </tr>\n",
       "  </tbody>\n",
       "</table>\n",
       "</div>"
      ],
      "text/plain": [
       "  Combustível  Eficiência Térmica %     MEP (KPa)  Potência no Eixo (W)  \\\n",
       "0      etanol              0.601893  1.806058e+06         360443.987123   \n",
       "\n",
       "   Consumo Especifico  \n",
       "0            0.000003  "
      ]
     },
     "execution_count": 16,
     "metadata": {},
     "output_type": "execute_result"
    }
   ],
   "source": [
    "eficiencia_df_projeto_3000"
   ]
  },
  {
   "cell_type": "markdown",
   "metadata": {},
   "source": [
    "## H_2"
   ]
  },
  {
   "cell_type": "code",
   "execution_count": 17,
   "metadata": {},
   "outputs": [
    {
     "name": "stdout",
     "output_type": "stream",
     "text": [
      "Estados calculados com sucesso\n"
     ]
    }
   ],
   "source": [
    "parametros_projeto_3000 = {\n",
    "        'combustivel': 'Hidrogenio',\n",
    "        'p1': 70121,\n",
    "        't1': 268.7,\n",
    "        'cr': 12,\n",
    "        'rpm': 2700,\n",
    "        'proporcao_mistura': 1/34,\n",
    "        'vh': 0.00887, # Dados do motor do ipanema\n",
    "        'cv': 717, # Valor de cv padrao\n",
    "        'cp': 1005, # Valor de cp padrao\n",
    "        'calor_reacao': 3.52 * (10**6), # calor de reacao do  avgas\n",
    "        'altitude': 3000,\n",
    "        'mf': 1.0\n",
    "        \n",
    "    }\n",
    "otto_projeto_3000 = Otto(**parametros_projeto_3000)\n",
    "estados_df_projeto_3000, eficiencia_df_projeto_3000 = otto_projeto_3000.resumo()"
   ]
  },
  {
   "cell_type": "code",
   "execution_count": 18,
   "metadata": {},
   "outputs": [
    {
     "data": {
      "text/html": [
       "<div>\n",
       "<style scoped>\n",
       "    .dataframe tbody tr th:only-of-type {\n",
       "        vertical-align: middle;\n",
       "    }\n",
       "\n",
       "    .dataframe tbody tr th {\n",
       "        vertical-align: top;\n",
       "    }\n",
       "\n",
       "    .dataframe thead th {\n",
       "        text-align: right;\n",
       "    }\n",
       "</style>\n",
       "<table border=\"1\" class=\"dataframe\">\n",
       "  <thead>\n",
       "    <tr style=\"text-align: right;\">\n",
       "      <th></th>\n",
       "      <th>Estado</th>\n",
       "      <th>Pressão (Pa)</th>\n",
       "      <th>Temperatura (K)</th>\n",
       "      <th>Volume (m³)</th>\n",
       "    </tr>\n",
       "  </thead>\n",
       "  <tbody>\n",
       "    <tr>\n",
       "      <th>0</th>\n",
       "      <td>Estado 1</td>\n",
       "      <td>7.012100e+04</td>\n",
       "      <td>268.700000</td>\n",
       "      <td>1.099769</td>\n",
       "    </tr>\n",
       "    <tr>\n",
       "      <th>1</th>\n",
       "      <td>Estado 2</td>\n",
       "      <td>2.273536e+06</td>\n",
       "      <td>726.005925</td>\n",
       "      <td>0.091647</td>\n",
       "    </tr>\n",
       "    <tr>\n",
       "      <th>2</th>\n",
       "      <td>Estado 3</td>\n",
       "      <td>1.764748e+07</td>\n",
       "      <td>5635.350416</td>\n",
       "      <td>0.091647</td>\n",
       "    </tr>\n",
       "    <tr>\n",
       "      <th>3</th>\n",
       "      <td>Estado 4</td>\n",
       "      <td>5.442881e+05</td>\n",
       "      <td>2085.683608</td>\n",
       "      <td>1.099769</td>\n",
       "    </tr>\n",
       "  </tbody>\n",
       "</table>\n",
       "</div>"
      ],
      "text/plain": [
       "     Estado  Pressão (Pa)  Temperatura (K)  Volume (m³)\n",
       "0  Estado 1  7.012100e+04       268.700000     1.099769\n",
       "1  Estado 2  2.273536e+06       726.005925     0.091647\n",
       "2  Estado 3  1.764748e+07      5635.350416     0.091647\n",
       "3  Estado 4  5.442881e+05      2085.683608     1.099769"
      ]
     },
     "execution_count": 18,
     "metadata": {},
     "output_type": "execute_result"
    }
   ],
   "source": [
    "estados_df_projeto_3000"
   ]
  },
  {
   "cell_type": "code",
   "execution_count": 19,
   "metadata": {},
   "outputs": [
    {
     "data": {
      "text/html": [
       "<div>\n",
       "<style scoped>\n",
       "    .dataframe tbody tr th:only-of-type {\n",
       "        vertical-align: middle;\n",
       "    }\n",
       "\n",
       "    .dataframe tbody tr th {\n",
       "        vertical-align: top;\n",
       "    }\n",
       "\n",
       "    .dataframe thead th {\n",
       "        text-align: right;\n",
       "    }\n",
       "</style>\n",
       "<table border=\"1\" class=\"dataframe\">\n",
       "  <thead>\n",
       "    <tr style=\"text-align: right;\">\n",
       "      <th></th>\n",
       "      <th>Combustível</th>\n",
       "      <th>Eficiência Térmica %</th>\n",
       "      <th>MEP (KPa)</th>\n",
       "      <th>Potência no Eixo (W)</th>\n",
       "      <th>Consumo Especifico</th>\n",
       "    </tr>\n",
       "  </thead>\n",
       "  <tbody>\n",
       "    <tr>\n",
       "      <th>0</th>\n",
       "      <td>Hidrogenio</td>\n",
       "      <td>0.629893</td>\n",
       "      <td>2.199361e+06</td>\n",
       "      <td>438937.376178</td>\n",
       "      <td>0.000002</td>\n",
       "    </tr>\n",
       "  </tbody>\n",
       "</table>\n",
       "</div>"
      ],
      "text/plain": [
       "  Combustível  Eficiência Térmica %     MEP (KPa)  Potência no Eixo (W)  \\\n",
       "0  Hidrogenio              0.629893  2.199361e+06         438937.376178   \n",
       "\n",
       "   Consumo Especifico  \n",
       "0            0.000002  "
      ]
     },
     "execution_count": 19,
     "metadata": {},
     "output_type": "execute_result"
    }
   ],
   "source": [
    "eficiencia_df_projeto_3000"
   ]
  },
  {
   "cell_type": "code",
   "execution_count": null,
   "metadata": {},
   "outputs": [],
   "source": []
  },
  {
   "cell_type": "code",
   "execution_count": null,
   "metadata": {},
   "outputs": [],
   "source": []
  },
  {
   "cell_type": "code",
   "execution_count": null,
   "metadata": {},
   "outputs": [],
   "source": []
  },
  {
   "cell_type": "code",
   "execution_count": null,
   "metadata": {},
   "outputs": [],
   "source": []
  },
  {
   "cell_type": "code",
   "execution_count": null,
   "metadata": {},
   "outputs": [],
   "source": []
  }
 ],
 "metadata": {
  "language_info": {
   "name": "python"
  }
 },
 "nbformat": 4,
 "nbformat_minor": 2
}
