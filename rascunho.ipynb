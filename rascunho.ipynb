{
 "cells": [
  {
   "cell_type": "code",
   "execution_count": 78,
   "metadata": {},
   "outputs": [],
   "source": [
    "import importlib\n",
    "import turbofan  # Importando o módulo inicialmente\n",
    "importlib.reload(turbofan)  # Recarregando o módulo após modificações\n",
    "from turbofan import Turbofan  # Reimportando a classe\n",
    "params =  {\n",
    "        \"M0\" : 0.8,\n",
    "        \"p0\" : 13100,\n",
    "        \"T0\" : 228.55,\n",
    "        \"gamma_c\" : 1.4,\n",
    "        \"pi_d\" : 0.995,\n",
    "        \"pi_f\" : 1.7,\n",
    "        \"pi_fn\" : 0.98,\n",
    "        \"c_pc\" : 1004,\n",
    "        \"rho19\" : 0.27,\n",
    "        \"pi_c\" : 32,\n",
    "        \"e_c\" : 0.9,\n",
    "        \"pi_b\" : 0.95,\n",
    "        \"tal_lamb\" : 8,\n",
    "        \"c_pt\" : 1152,\n",
    "        \"q_r\" : 42 * 10**6,\n",
    "        \"n_b\" : 0.95,\n",
    "        \"alpha\" : 4.7,\n",
    "        \"n_m\" : 0.95,\n",
    "        \"gamma_t\" : 1.33,\n",
    "        \"tal_t\" : 0.39,\n",
    "        \"e_t\" : 0.95,\n",
    "        \"e_f\" : 0.9\n",
    "    }\n",
    "\n",
    "teste = Turbofan(**params)"
   ]
  },
  {
   "cell_type": "code",
   "execution_count": 79,
   "metadata": {},
   "outputs": [
    {
     "data": {
      "text/plain": [
       "(257.80440000000004, 19968.854125218295, 242.36921256628284)"
      ]
     },
     "execution_count": 79,
     "metadata": {},
     "output_type": "execute_result"
    }
   ],
   "source": [
    "T_t0, p_t0, v0 = teste.converte_prop_estaticas()\n",
    "T_t0, p_t0, v0 "
   ]
  },
  {
   "cell_type": "code",
   "execution_count": 80,
   "metadata": {},
   "outputs": [
    {
     "data": {
      "text/plain": [
       "(19869.009854592205, 257.80440000000004)"
      ]
     },
     "execution_count": 80,
     "metadata": {},
     "output_type": "execute_result"
    }
   ],
   "source": [
    "p_t2, T_t2 = teste.calcula_difusor()\n",
    "p_t2, T_t2"
   ]
  },
  {
   "cell_type": "code",
   "execution_count": 81,
   "metadata": {},
   "outputs": [
    {
     "data": {
      "text/plain": [
       "(33777.31675280675,\n",
       " 305.1045701779602,\n",
       " 33101.77041775062,\n",
       " 17487.062452892766,\n",
       " 254.25380848163354,\n",
       " 319.54393983648635,\n",
       " 370.39259452689555)"
      ]
     },
     "execution_count": 81,
     "metadata": {},
     "output_type": "execute_result"
    }
   ],
   "source": [
    "p_t13 ,T_t13 ,p_t19 ,p19 , T19 ,V19 ,V19_eff  = teste.calcula_fan()\n",
    "p_t13 ,T_t13 ,p_t19 ,p19 , T19 ,V19 ,V19_eff"
   ]
  },
  {
   "cell_type": "code",
   "execution_count": 82,
   "metadata": {},
   "outputs": [
    {
     "data": {
      "text/plain": [
       "(635808.3153469505,\n",
       " 774.6681760955626,\n",
       " 604017.899579603,\n",
       " 1593.5013888888889,\n",
       " 0.027793684087035853,\n",
       " 895.9981781019242,\n",
       " 18485.96781663375)"
      ]
     },
     "execution_count": 82,
     "metadata": {},
     "output_type": "execute_result"
    }
   ],
   "source": [
    "p_t3 ,T_t3 ,p_t4 ,T_t4 ,f, T_t5 , p_t5 = teste.calcula_gerador_gas()\n",
    "p_t3 ,T_t3 ,p_t4 ,T_t4 ,f, T_t5 , p_t5 "
   ]
  },
  {
   "cell_type": "code",
   "execution_count": 83,
   "metadata": {},
   "outputs": [
    {
     "data": {
      "text/plain": [
       "(9989.151839285074,\n",
       " 1,\n",
       " 769.0971485853427,\n",
       " 540.7217140139685,\n",
       " 540.7217140139685,\n",
       " 414.1104430574421)"
      ]
     },
     "execution_count": 83,
     "metadata": {},
     "output_type": "execute_result"
    }
   ],
   "source": [
    "p9 ,M9 ,T9 ,V9 ,a9 , V9_eff = teste.calcula_bocal_principal()\n",
    "p9 ,M9 ,T9 ,V9 ,a9 , V9_eff "
   ]
  },
  {
   "cell_type": "code",
   "execution_count": null,
   "metadata": {},
   "outputs": [],
   "source": []
  },
  {
   "cell_type": "code",
   "execution_count": null,
   "metadata": {},
   "outputs": [],
   "source": []
  },
  {
   "cell_type": "code",
   "execution_count": null,
   "metadata": {},
   "outputs": [],
   "source": []
  }
 ],
 "metadata": {
  "language_info": {
   "name": "python"
  }
 },
 "nbformat": 4,
 "nbformat_minor": 2
}
