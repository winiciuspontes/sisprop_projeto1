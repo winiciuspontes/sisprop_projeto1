{
 "cells": [
  {
   "cell_type": "code",
   "execution_count": 1,
   "metadata": {},
   "outputs": [],
   "source": [
    "from otto import Otto"
   ]
  },
  {
   "cell_type": "code",
   "execution_count": 8,
   "metadata": {},
   "outputs": [
    {
     "name": "stdout",
     "output_type": "stream",
     "text": [
      "Estados calculados com sucesso\n"
     ]
    }
   ],
   "source": [
    "parametros_projeto_0 = {\n",
    "        'combustivel': 'AVGas',\n",
    "        'p1': 101000,\n",
    "        't1': 293,\n",
    "        'cr': 8,\n",
    "        'rpm': 4500,\n",
    "        'proporcao_mistura': 0.043,\n",
    "        'vh': 0.005, # Dados do motor do ipanema\n",
    "        'cv': 717, # Valor de cv padrao\n",
    "        'cp': 1004, # Valor de cp padrao\n",
    "        'calor_reacao': 1.87 * (10**6), # calor de reacao do  avgas\n",
    "        'altitude': 0,\n",
    "        'mf': 0.261\n",
    "        \n",
    "    }\n",
    "otto_projeto_0 = Otto(**parametros_projeto_0)\n",
    "estados_df_projeto_0, eficiencia_df_projeto_0 = otto_projeto_0.resumo()"
   ]
  },
  {
   "cell_type": "code",
   "execution_count": 9,
   "metadata": {},
   "outputs": [
    {
     "data": {
      "text/html": [
       "<div>\n",
       "<style scoped>\n",
       "    .dataframe tbody tr th:only-of-type {\n",
       "        vertical-align: middle;\n",
       "    }\n",
       "\n",
       "    .dataframe tbody tr th {\n",
       "        vertical-align: top;\n",
       "    }\n",
       "\n",
       "    .dataframe thead th {\n",
       "        text-align: right;\n",
       "    }\n",
       "</style>\n",
       "<table border=\"1\" class=\"dataframe\">\n",
       "  <thead>\n",
       "    <tr style=\"text-align: right;\">\n",
       "      <th></th>\n",
       "      <th>Estado</th>\n",
       "      <th>Pressão (Pa)</th>\n",
       "      <th>Temperatura (K)</th>\n",
       "      <th>Volume (m³)</th>\n",
       "    </tr>\n",
       "  </thead>\n",
       "  <tbody>\n",
       "    <tr>\n",
       "      <th>0</th>\n",
       "      <td>Estado 1</td>\n",
       "      <td>1.010000e+05</td>\n",
       "      <td>293.000000</td>\n",
       "      <td>0.832584</td>\n",
       "    </tr>\n",
       "    <tr>\n",
       "      <th>1</th>\n",
       "      <td>Estado 2</td>\n",
       "      <td>1.856297e+06</td>\n",
       "      <td>673.137236</td>\n",
       "      <td>0.104073</td>\n",
       "    </tr>\n",
       "    <tr>\n",
       "      <th>2</th>\n",
       "      <td>Estado 3</td>\n",
       "      <td>9.048570e+06</td>\n",
       "      <td>3281.226497</td>\n",
       "      <td>0.104073</td>\n",
       "    </tr>\n",
       "    <tr>\n",
       "      <th>3</th>\n",
       "      <td>Estado 4</td>\n",
       "      <td>4.923274e+05</td>\n",
       "      <td>1428.236788</td>\n",
       "      <td>0.832584</td>\n",
       "    </tr>\n",
       "  </tbody>\n",
       "</table>\n",
       "</div>"
      ],
      "text/plain": [
       "     Estado  Pressão (Pa)  Temperatura (K)  Volume (m³)\n",
       "0  Estado 1  1.010000e+05       293.000000     0.832584\n",
       "1  Estado 2  1.856297e+06       673.137236     0.104073\n",
       "2  Estado 3  9.048570e+06      3281.226497     0.104073\n",
       "3  Estado 4  4.923274e+05      1428.236788     0.832584"
      ]
     },
     "execution_count": 9,
     "metadata": {},
     "output_type": "execute_result"
    }
   ],
   "source": [
    "estados_df_projeto_0"
   ]
  },
  {
   "cell_type": "code",
   "execution_count": 10,
   "metadata": {},
   "outputs": [
    {
     "data": {
      "text/html": [
       "<div>\n",
       "<style scoped>\n",
       "    .dataframe tbody tr th:only-of-type {\n",
       "        vertical-align: middle;\n",
       "    }\n",
       "\n",
       "    .dataframe tbody tr th {\n",
       "        vertical-align: top;\n",
       "    }\n",
       "\n",
       "    .dataframe thead th {\n",
       "        text-align: right;\n",
       "    }\n",
       "</style>\n",
       "<table border=\"1\" class=\"dataframe\">\n",
       "  <thead>\n",
       "    <tr style=\"text-align: right;\">\n",
       "      <th></th>\n",
       "      <th>Combustível</th>\n",
       "      <th>Eficiência Térmica %</th>\n",
       "      <th>MEP (KPa)</th>\n",
       "      <th>Potência no Eixo (W)</th>\n",
       "      <th>Consumo Especifico</th>\n",
       "    </tr>\n",
       "  </thead>\n",
       "  <tbody>\n",
       "    <tr>\n",
       "      <th>0</th>\n",
       "      <td>AVGas</td>\n",
       "      <td>0.564725</td>\n",
       "      <td>1.449580e+06</td>\n",
       "      <td>271796.262098</td>\n",
       "      <td>3457.001184</td>\n",
       "    </tr>\n",
       "  </tbody>\n",
       "</table>\n",
       "</div>"
      ],
      "text/plain": [
       "  Combustível  Eficiência Térmica %     MEP (KPa)  Potência no Eixo (W)  \\\n",
       "0       AVGas              0.564725  1.449580e+06         271796.262098   \n",
       "\n",
       "   Consumo Especifico  \n",
       "0         3457.001184  "
      ]
     },
     "execution_count": 10,
     "metadata": {},
     "output_type": "execute_result"
    }
   ],
   "source": [
    "eficiencia_df_projeto_0"
   ]
  },
  {
   "cell_type": "code",
   "execution_count": null,
   "metadata": {},
   "outputs": [],
   "source": []
  }
 ],
 "metadata": {
  "language_info": {
   "name": "python"
  }
 },
 "nbformat": 4,
 "nbformat_minor": 2
}
